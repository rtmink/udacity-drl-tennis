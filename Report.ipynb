{
 "cells": [
  {
   "cell_type": "markdown",
   "metadata": {},
   "source": [
    "# Train Agent on Unity Environment\n",
    "\n",
    "---\n",
    "\n",
    "## Start the Environment\n",
    "\n",
    "Below assumes that one has followed the instruction on the README file such that the Unity environment is ready."
   ]
  },
  {
   "cell_type": "code",
   "execution_count": 2,
   "metadata": {},
   "outputs": [
    {
     "name": "stderr",
     "output_type": "stream",
     "text": [
      "INFO:unityagents:\n",
      "'Academy' started successfully!\n",
      "Unity Academy name: Academy\n",
      "        Number of Brains: 1\n",
      "        Number of External Brains : 1\n",
      "        Lesson number : 0\n",
      "        Reset Parameters :\n",
      "\t\t\n",
      "Unity brain name: TennisBrain\n",
      "        Number of Visual Observations (per agent): 0\n",
      "        Vector Observation space type: continuous\n",
      "        Vector Observation space size (per agent): 8\n",
      "        Number of stacked Vector Observation: 3\n",
      "        Vector Action space type: continuous\n",
      "        Vector Action space size (per agent): 2\n",
      "        Vector Action descriptions: , \n"
     ]
    }
   ],
   "source": [
    "from unityagents import UnityEnvironment\n",
    "import numpy as np\n",
    "\n",
    "env = UnityEnvironment(file_name=\"Tennis.app\")"
   ]
  },
  {
   "cell_type": "markdown",
   "metadata": {},
   "source": [
    "Environments contain **_brains_** which are responsible for deciding the actions of their associated agents. Here we check for the first brain available, and set it as the default brain we will be controlling from Python."
   ]
  },
  {
   "cell_type": "code",
   "execution_count": 3,
   "metadata": {},
   "outputs": [],
   "source": [
    "# get the default brain\n",
    "brain_name = env.brain_names[0]\n",
    "brain = env.brains[brain_name]"
   ]
  },
  {
   "cell_type": "markdown",
   "metadata": {},
   "source": [
    "## Examine the State and Action Spaces\n",
    "\n",
    "Run the code cell below to print some information about the environment."
   ]
  },
  {
   "cell_type": "code",
   "execution_count": 4,
   "metadata": {},
   "outputs": [
    {
     "name": "stdout",
     "output_type": "stream",
     "text": [
      "Number of agents: 2\n",
      "Size of each action: 2\n",
      "There are 2 agents. Each observes a state with length: 24\n",
      "The state for the first agent looks like: [ 0.          0.          0.          0.          0.          0.          0.\n",
      "  0.          0.          0.          0.          0.          0.          0.\n",
      "  0.          0.         -6.65278625 -1.5        -0.          0.\n",
      "  6.83172083  6.         -0.          0.        ]\n"
     ]
    }
   ],
   "source": [
    "# reset the environment\n",
    "env_info = env.reset(train_mode=True)[brain_name]\n",
    "\n",
    "# number of agents \n",
    "num_agents = len(env_info.agents)\n",
    "print('Number of agents:', num_agents)\n",
    "\n",
    "# size of each action\n",
    "action_size = brain.vector_action_space_size\n",
    "print('Size of each action:', action_size)\n",
    "\n",
    "# examine the state space \n",
    "states = env_info.vector_observations\n",
    "state_size = states.shape[1]\n",
    "print('There are {} agents. Each observes a state with length: {}'.format(states.shape[0], state_size))\n",
    "print('The state for the first agent looks like:', states[0])"
   ]
  },
  {
   "cell_type": "markdown",
   "metadata": {},
   "source": [
    "## Background\n",
    "\n",
    "The algorithm used is based on [Deep Deterministic Policy Gradients (DDPG)](https://arxiv.org/abs/1509.02971). Specifically, it is a distributed version of the algorithm referred to as D3PG which is mentioned [here](https://openreview.net/forum?id=SyZipzbCb). \n",
    "\n",
    "In the aforementioned paper, it is referred to as an \"Actor-Critic\" method which involves an \"Actor\" which acts as a policy network and a \"Critic\" which acts as a value network. The \"Actor\" chooses an action given a state and the \"Critic\" informs the \"Actor\" which action in a given state should have its probability of occurring increased because it leads to a high reward and vice versa.\n",
    "\n",
    "The hyperparameters are mostly inspired by the first [paper](https://arxiv.org/abs/1509.02971):\n",
    "\n",
    "|Hyperparameters|Value|\n",
    "|---|---|\n",
    "|Replay Buffer size|1e6|\n",
    "|Batch size|128|\n",
    "|Discount factor (gamma)|0.99|\n",
    "|Soft update parameter (tau)|1e-3|\n",
    "|Actor learning rate|1e-5|\n",
    "|Critic learning rate|1e-5|\n",
    "|Weight decay|0|\n",
    "|Ornstein-Uhlenbeck theta|0.15|\n",
    "|Ornstein-Uhlenbeck sigma|0.2|\n",
    "|Number of layers|2|\n",
    "|Number of units for first hidden layer|400|\n",
    "|Number of units for second hidden layer|300|\n",
    "\n",
    "with the exception of the batch size and learning rates which were obtained through hyperparameter search.\n",
    "\n",
    "Batch sizes of 32, 64, 128, 256, 512, and 1024 were tested and 128 performed the best.\n",
    "\n",
    "Learning rates of 1e-2, 5e-3, 1e-3, 5e-4, 1e-4, 5e-5, 1e-5, 5e-6, and 1e-6 were tested for both the \"Actor\" and \"Critic\" networks and 1e-5 performed the best.\n",
    "\n",
    "Lastly, weight decay of 1e-2 as used in the first paper significantly slowed down learning, and thus the weight decay was set to 0.\n",
    "\n",
    "The network architecture for both the \"Actor\" and \"Critic\" is based on the one from the first paper. It consists of two hidden fully-connected layers with 400 and 300 units, respectively. The action is used as an input to the second hidden layer of the \"Critic\". The tanh activation function is used for the output layer of the \"Actor\" to bound the value between -1 and 1. ReLU  is used in all other hidden layers. Lastly, batch normalization is applied to the state input and all layers in \"Actor\" and all layers prior to the action input in \"Critic\" such that it has a norm of 1.\n",
    "\n",
    "Both agents share the \"Actor\", \"Critic\" and the replay buffer.\n",
    "\n",
    "Ornstein-Uhlenbeck process is used to help with temporally correlated exploration. The implementation is borrowed from Udacity's [implementation](https://github.com/udacity/deep-reinforcement-learning/blob/master/ddpg-pendulum/ddpg_agent.py). However, during experimentation, it was discovered that the use of random number from a uniform distribution `random.random()` was harmful to learning. The use of random number from a normal distribution, on the other hand, allowed for fast learning convergence.\n",
    "\n",
    "Initially the agents could not learn to achieve a score of 0.1 averaged over 100 consecutive episodes due to each agent lacking information about each other's observation and action. [OpenAI's paper](https://papers.nips.cc/paper/7217-multi-agent-actor-critic-for-mixed-cooperative-competitive-environments.pdf) states that the problem is due to the non-stationarity of the environment from the perspective of each agent. To solve this, the paper suggests using a centralized \"Critic\" that takes all agents' observations and actions which allow the \"Critic\" to learn the relationship between all agents. During testing, each agent only uses its own observation to decide what action to take.\n",
    "\n",
    "During training, it was discovered that the agents took a very long time getting stuck with an average score of 0.3. This was most likely due to exploration noise that prevented the agents from exploiting their shared policy. By introducing an exploration noise annealing, the agents were able to exploit their shared policy after they sufficiently learned a good policy."
   ]
  },
  {
   "cell_type": "markdown",
   "metadata": {},
   "source": [
    "## Initialization\n",
    "\n",
    "Initialize the agent."
   ]
  },
  {
   "cell_type": "code",
   "execution_count": 5,
   "metadata": {},
   "outputs": [],
   "source": [
    "from maddpg import Controller\n",
    "\n",
    "seed = 69\n",
    "\n",
    "# initialize the algorithm controller\n",
    "controller = Controller(state_size, action_size, seed)"
   ]
  },
  {
   "cell_type": "markdown",
   "metadata": {},
   "source": [
    "Define the training function."
   ]
  },
  {
   "cell_type": "code",
   "execution_count": 6,
   "metadata": {},
   "outputs": [],
   "source": [
    "import time\n",
    "from collections import deque\n",
    "import torch\n",
    "\n",
    "def train_agent(env, \n",
    "                brain_name, \n",
    "                n_episodes=2000, \n",
    "                n_timesteps=1000, \n",
    "                print_every_n_episode=100,\n",
    "                save_every_n_episode=100,\n",
    "                learn_every_n_timestep=2,\n",
    "                n_learning=2,\n",
    "                passing_score=0.5, \n",
    "                actor_model_path=\"actor.pt\",\n",
    "                critic_model_path=\"critic.pt\"):\n",
    "    \n",
    "    has_reached_target_score = False\n",
    "    \n",
    "    # initialize start time\n",
    "    start_time = time.time()\n",
    "    \n",
    "    # initialize score trackers\n",
    "    scores = []\n",
    "    average_scores = []\n",
    "    scores_deque = deque(maxlen=100)\n",
    "    \n",
    "    for i_episode in range(1, n_episodes+1):\n",
    "        \n",
    "        # initialize agent scores (one for each agent)\n",
    "        agent_scores = np.zeros(num_agents)\n",
    "        \n",
    "        # reset the environment\n",
    "        env_info = env.reset(train_mode=True)[brain_name]\n",
    "        \n",
    "        # reset the controller\n",
    "        controller.reset()\n",
    "\n",
    "        # get the current states (one for each agent)\n",
    "        states = env_info.vector_observations\n",
    "        \n",
    "        for timestep in range(n_timesteps):\n",
    "            # select actions (one for each agent)\n",
    "            actions = controller.act(states)\n",
    "                \n",
    "            # send actions to the environment\n",
    "            env_info = env.step(actions)[brain_name]\n",
    "            \n",
    "            # get next states\n",
    "            next_states = env_info.vector_observations\n",
    "            \n",
    "            # get rewards\n",
    "            rewards = env_info.rewards\n",
    "            \n",
    "            # get indicators if any episode finishes\n",
    "            dones = env_info.local_done\n",
    "            \n",
    "            # get other states by swapping both agents' states\n",
    "            other_states = np.stack([states[1], states[0]])\n",
    "            \n",
    "            # get other next states by swapping both agents' next states\n",
    "            other_next_states = np.stack([next_states[1], next_states[0]])\n",
    "            \n",
    "            # get other actions by swapping both agents' actions\n",
    "            other_actions = np.stack([actions[1], actions[0]])\n",
    "            \n",
    "            # save experiences collected by agents\n",
    "            controller.save_experience(states, other_states, actions, other_actions, rewards, next_states, other_next_states, dones)\n",
    "                \n",
    "            # learn m times every n timestep\n",
    "            if (timestep + 1) % learn_every_n_timestep == 0:\n",
    "                controller.learn(n_learning)\n",
    "            \n",
    "            # accumulate rewards for each agent\n",
    "            agent_scores += rewards\n",
    "            \n",
    "            # roll over to the next states\n",
    "            states = next_states\n",
    "            \n",
    "            # exit loop if any of the episodes finishes\n",
    "            if np.any(dones):\n",
    "                break\n",
    "        \n",
    "        # get max score over agents and add it to the score lists\n",
    "        max_score_over_agents = np.amax(agent_scores)\n",
    "        scores.append(max_score_over_agents)\n",
    "        scores_deque.append(max_score_over_agents)\n",
    "        average_score_over_100_episodes = np.mean(scores_deque)\n",
    "        average_scores.append(average_score_over_100_episodes)\n",
    "        \n",
    "        # print results\n",
    "        print(\"\\rEpisode {:4d}/{} \\t Current score: {:2.4f} | Avg score over 100 episodes: {:2.4f}\".format(i_episode, n_episodes, max_score_over_agents, average_score_over_100_episodes), end=\"\")\n",
    "        \n",
    "        if i_episode % print_every_n_episode == 0:\n",
    "            print(\"\\rEpisode {:4d}/{} \\t Current score: {:2.4f} | Avg score over 100 episodes: {:2.4f}\".format(i_episode, n_episodes, max_score_over_agents, average_score_over_100_episodes))\n",
    "            \n",
    "            minutes, seconds = utils.get_minutes_and_seconds_from_start_time(start_time)\n",
    "            print(\"Elapsed time: {:3d} minutes {:2d} seconds\\n\".format(minutes, seconds))\n",
    "            \n",
    "        if i_episode % save_every_n_episode == 0:\n",
    "            # save models\n",
    "            torch.save(controller.actor_local.state_dict(), actor_model_path)\n",
    "            torch.save(controller.critic_local.state_dict(), critic_model_path)\n",
    "        \n",
    "        if not has_reached_target_score and average_score_over_100_episodes >= passing_score:\n",
    "            has_reached_target_score = True\n",
    "            \n",
    "            print(\"\\rThe environment is solved in {} episodes with an average score of {:2.4f} over 100 episodes\".format(i_episode, average_score_over_100_episodes))\n",
    "            \n",
    "            minutes, seconds = utils.get_minutes_and_seconds_from_start_time(start_time)\n",
    "            print(\"Elapsed time: {:3d} minutes {:2d} seconds\\n\".format(minutes, seconds))\n",
    "    \n",
    "    return scores, average_scores"
   ]
  },
  {
   "cell_type": "markdown",
   "metadata": {},
   "source": [
    "## Training"
   ]
  },
  {
   "cell_type": "code",
   "execution_count": 7,
   "metadata": {},
   "outputs": [],
   "source": [
    "import utils\n",
    "from workspace_utils import active_session"
   ]
  },
  {
   "cell_type": "code",
   "execution_count": 8,
   "metadata": {
    "scrolled": false
   },
   "outputs": [
    {
     "name": "stdout",
     "output_type": "stream",
     "text": [
      "Episode  100/2100 \t Current score: 0.0900 | Avg score over 100 episodes: 0.0076\n",
      "Elapsed time:   0 minutes 29 seconds\n",
      "\n",
      "Episode  200/2100 \t Current score: 0.0000 | Avg score over 100 episodes: 0.0274\n",
      "Elapsed time:   1 minutes  7 seconds\n",
      "\n",
      "Episode  300/2100 \t Current score: 0.0000 | Avg score over 100 episodes: 0.0365\n",
      "Elapsed time:   1 minutes 47 seconds\n",
      "\n",
      "Episode  400/2100 \t Current score: 0.0000 | Avg score over 100 episodes: 0.0457\n",
      "Elapsed time:   2 minutes 29 seconds\n",
      "\n",
      "Episode  500/2100 \t Current score: 0.0900 | Avg score over 100 episodes: 0.0114\n",
      "Elapsed time:   3 minutes  0 seconds\n",
      "\n",
      "Episode  600/2100 \t Current score: 0.0900 | Avg score over 100 episodes: 0.0330\n",
      "Elapsed time:   3 minutes 37 seconds\n",
      "\n",
      "Episode  700/2100 \t Current score: 0.0900 | Avg score over 100 episodes: 0.0774\n",
      "Elapsed time:   4 minutes 29 seconds\n",
      "\n",
      "Episode  800/2100 \t Current score: 0.0000 | Avg score over 100 episodes: 0.0549\n",
      "Elapsed time:   5 minutes 17 seconds\n",
      "\n",
      "Episode  900/2100 \t Current score: 0.0000 | Avg score over 100 episodes: 0.0123\n",
      "Elapsed time:   5 minutes 48 seconds\n",
      "\n",
      "Episode 1000/2100 \t Current score: 0.1000 | Avg score over 100 episodes: 0.0530\n",
      "Elapsed time:   6 minutes 31 seconds\n",
      "\n",
      "Episode 1100/2100 \t Current score: 0.0900 | Avg score over 100 episodes: 0.0952\n",
      "Elapsed time:   7 minutes 27 seconds\n",
      "\n",
      "Episode 1200/2100 \t Current score: 0.0900 | Avg score over 100 episodes: 0.0955\n",
      "Elapsed time:   8 minutes 25 seconds\n",
      "\n",
      "Episode 1300/2100 \t Current score: 0.1000 | Avg score over 100 episodes: 0.0955\n",
      "Elapsed time:   9 minutes 22 seconds\n",
      "\n",
      "Episode 1400/2100 \t Current score: 0.1000 | Avg score over 100 episodes: 0.2071\n",
      "Elapsed time:  11 minutes 52 seconds\n",
      "\n",
      "Episode 1500/2100 \t Current score: 0.1000 | Avg score over 100 episodes: 0.1120\n",
      "Elapsed time:  13 minutes 36 seconds\n",
      "\n",
      "Episode 1600/2100 \t Current score: 0.2000 | Avg score over 100 episodes: 0.1339\n",
      "Elapsed time:  15 minutes 27 seconds\n",
      "\n",
      "Episode 1700/2100 \t Current score: 2.6000 | Avg score over 100 episodes: 0.2643\n",
      "Elapsed time:  18 minutes 36 seconds\n",
      "\n",
      "Episode 1800/2100 \t Current score: 0.1000 | Avg score over 100 episodes: 0.1395\n",
      "Elapsed time:  20 minutes 11 seconds\n",
      "\n",
      "Episode 1900/2100 \t Current score: 0.1000 | Avg score over 100 episodes: 0.0898\n",
      "Elapsed time:  21 minutes 10 seconds\n",
      "\n",
      "Episode 2000/2100 \t Current score: 0.1000 | Avg score over 100 episodes: 0.1147\n",
      "Elapsed time:  22 minutes 26 seconds\n",
      "\n",
      "The environment is solved in 2052 episodes with an average score of 0.5222 over 100 episodes\n",
      "Elapsed time:  27 minutes 56 seconds\n",
      "\n",
      "Episode 2100/2100 \t Current score: 0.1000 | Avg score over 100 episodes: 1.3176\n",
      "Elapsed time:  38 minutes 32 seconds\n",
      "\n"
     ]
    }
   ],
   "source": [
    "with active_session():\n",
    "    scores, average_scores = train_agent(env, \n",
    "                        brain_name, \n",
    "                        n_episodes=2100,\n",
    "                        n_timesteps=1000, \n",
    "                        print_every_n_episode=100,\n",
    "                        save_every_n_episode=100,\n",
    "                        learn_every_n_timestep=2,\n",
    "                        n_learning=2,\n",
    "                        passing_score=0.5)"
   ]
  },
  {
   "cell_type": "code",
   "execution_count": 9,
   "metadata": {},
   "outputs": [
    {
     "data": {
      "image/png": "[encoded data removed]",
      "text/plain": [
       "<matplotlib.figure.Figure at 0x7f95e083ce48>"
      ]
     },
     "metadata": {
      "needs_background": "light"
     },
     "output_type": "display_data"
    }
   ],
   "source": [
    "utils.plot_scores(scores, \"Maximum scores\")"
   ]
  },
  {
   "cell_type": "code",
   "execution_count": 10,
   "metadata": {},
   "outputs": [
    {
     "data": {
      "image/png": "[encoded data removed]",
      "text/plain": [
       "<matplotlib.figure.Figure at 0x7f95956f12e8>"
      ]
     },
     "metadata": {
      "needs_background": "light"
     },
     "output_type": "display_data"
    }
   ],
   "source": [
    "utils.plot_scores(average_scores, \"Maximum scores (each score is an average over 100 consecutive episodes)\")"
   ]
  },
  {
   "cell_type": "markdown",
   "metadata": {},
   "source": [
    "## Future Work\n",
    "\n",
    "Currently the training is not stable within the first 1900 episodes most likely due to suboptimal exploration and exploitation balance. Finding a more stable balance would be an interesting future work.\n",
    "\n",
    "Also, one can experiment with a model that uses a single network that outputs both the action probability distribution as well as the state value."
   ]
  }
 ],
 "metadata": {
  "kernelspec": {
   "display_name": "Python 3",
   "language": "python",
   "name": "python3"
  },
  "language_info": {
   "codemirror_mode": {
    "name": "ipython",
    "version": 3
   },
   "file_extension": ".py",
   "mimetype": "text/x-python",
   "name": "python",
   "nbconvert_exporter": "python",
   "pygments_lexer": "ipython3",
   "version": "3.6.8"
  }
 },
 "nbformat": 4,
 "nbformat_minor": 2
}
